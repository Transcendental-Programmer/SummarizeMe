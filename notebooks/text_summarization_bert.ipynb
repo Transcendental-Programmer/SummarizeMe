{
 "cells": [
  {
   "cell_type": "markdown",
   "metadata": {},
   "source": [
    "# Bert Text Summarization\n",
    "\n",
    "Now i will use bert model from transformers by facebook.\n",
    "\n",
    "## Install necessary libraries\n",
    "\n",
    "install pipeline from transformers"
   ]
  },
  {
   "cell_type": "code",
   "execution_count": null,
   "metadata": {},
   "outputs": [],
   "source": [
    "!pip install transformers\n"
   ]
  },
  {
   "cell_type": "markdown",
   "metadata": {},
   "source": [
    "##  Import libraries\n",
    "\n"
   ]
  },
  {
   "cell_type": "code",
   "execution_count": null,
   "metadata": {},
   "outputs": [],
   "source": [
    "from transformers import pipeline\n"
   ]
  },
  {
   "cell_type": "markdown",
   "metadata": {},
   "source": [
    "## summarization function\n"
   ]
  },
  {
   "cell_type": "code",
   "execution_count": null,
   "metadata": {},
   "outputs": [],
   "source": [
    "def bert_summarizer(raw_text):\n",
    "    summarizer = pipeline(\"summarization\", model=\"facebook/bart-large-cnn\")\n",
    "    summary = summarizer(raw_text, max_length=130, min_length=30, do_sample=False)\n",
    "    return summary[0]['summary_text']\n"
   ]
  },
  {
   "cell_type": "markdown",
   "metadata": {},
   "source": [
    "driver code"
   ]
  },
  {
   "cell_type": "code",
   "execution_count": null,
   "metadata": {},
   "outputs": [],
   "source": [
    "text = \"\"\"\n",
    "paste your sample text  here. This text will be used to test the summarization functions.\n",
    "\"\"\"\n",
    "\n",
    "bert_summary_result = bert_summarizer(text)\n",
    "\n",
    "print(\"Original Text:\\n\", text)\n",
    "print(\"\\Bert Summary:\\n\", bert_summary_result)\n"
   ]
  }
 ],
 "metadata": {
  "kernelspec": {
   "display_name": "myenv",
   "language": "python",
   "name": "python3"
  },
  "language_info": {
   "name": "python",
   "version": "3.11.4"
  }
 },
 "nbformat": 4,
 "nbformat_minor": 2
}
